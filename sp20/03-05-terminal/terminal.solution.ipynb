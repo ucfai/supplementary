{
 "cells": [
  {
   "cell_type": "markdown",
   "metadata": {},
   "source": [
    "# Terminal / Linux Workshop\n",
    "\n",
    "This workshop has two goals. First, the workshop aims to teach about the basic terminal commands like filesystem navigation and dealing with files. I will show how to use basic commands like `ls`, `cp`, etc.. Second, I hope to show how the terminal can be a great part of your workflow and your daily life, and not just something that you use just for work. I will showcase some of my favorite terminal applications like vim, tmux, zsh, ranger, etc, and demonstrate how these programs can speed up your workflow.\n",
    "\n",
    "## Part 1: Introduction to the terminal, and basic filesystem navigation\n",
    "\n",
    "In this part, we talk about basic terminal commands. Participants will try some commands introduced in this section on their own computer. Mac and linux users already have a terminal with bash, however, windows users should look into finding a way to get bash on their system. Consider looking into windows subsystem for linux, or running linux on a virtual machine.\n",
    "\n",
    "Below is a list of some of the commands covered in the session. Remember to use the `man` command to get the help page for most of the commands.\n",
    "\n",
    "- `ls`\n",
    "- `cd`\n",
    "- `mv`\n",
    "- `cp`\n",
    "- `rm`\n",
    "- `touch`\n",
    "- `cat`\n",
    "- `head`, `tail`\n",
    "\n",
    "There are a lot more commands that you will probably use daily, but I think those are good enough for a start.\n",
    "\n",
    "## Part 2: Workflow and productivity\n",
    "\n",
    "In this part, I will give an opinionated view of how I do my work on the terminal. The purpose of this is to show how one may use the terminal for their work and even their daily life. One does not need to use some of the programs that are mentioned here. It is worth researching other programs that better suit your preferences. For example, looking into other text editors like emacs, or other terminal file managers like nnn, vifm, etc..\n",
    "\n",
    "### Some great programs that I personally use\n",
    "\n",
    "The programs below I use very often when programming or really anything.\n",
    "\n",
    "- vim - my terminal text editor of choice\n",
    "- tmux - a terminal multiplexer. A valuable tool, especially when you work remotely. Use this to split your terminal into different panes.\n",
    "- zsh - a shell language like bash, but with lots of community support like oh-my-zsh. Combine zsh with other plugins like git and syntax highlighting to enhance your terminal experience.\n",
    "- ranger - a terminal file manager with vim keybindings. Manipulate your files blazing fast with a couple of key presses.\n",
    "\n",
    "### Casual / Daily life Programs\n",
    "\n",
    "You can do a lot of things on the terminal like listen to music, check your email, or monitor your system. Below are some interesting programs. I personally use cmus for music.\n",
    "\n",
    "- Music: cmus, mpd + ncmpcpp\n",
    "- System monitor: gotop, glances, htop\n",
    "- Email: neomutt\n",
    "- Calandar: calcurse\n",
    "\n",
    "### A demo of my workflow in python and latex\n",
    "\n",
    "Here, I showcase how I use some of the programs that I mentioned when writing a program or a document. I'll just put a small summary of what I do. Feel free to ask me questions about my workflow for programming and latex.\n",
    "\n",
    "#### Python\n",
    "\n",
    "I open up tmux and vim. I'll have one pane for my python script, and a terminal pane to run my code. Use vim plugins to enhance your development, like completion and ctags. There are other workflows specifically for data science, but I haven't found one that I personally like.\n",
    "\n",
    "#### LaTeX\n",
    "\n",
    "I also use tmux and vim here, but I use a vim plugin called vimtex for other features like compiling latex files, and I use zathura to preview my pdf.\n"
   ]
  }
 ],
 "metadata": {
  "kernelspec": {
   "display_name": "Python 3",
   "language": "python",
   "name": "python3"
  },
  "language_info": {
   "codemirror_mode": {
    "name": "ipython",
    "version": 3
   },
   "file_extension": ".py",
   "mimetype": "text/x-python",
   "name": "python",
   "nbconvert_exporter": "python",
   "pygments_lexer": "ipython3",
   "version": "3.7.5"
  }
 },
 "nbformat": 4,
 "nbformat_minor": 4
}
